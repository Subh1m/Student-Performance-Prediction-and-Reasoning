{
 "cells": [
  {
   "cell_type": "code",
   "execution_count": 1,
   "metadata": {},
   "outputs": [],
   "source": [
    "import pandas as pd\n",
    "import numpy as np"
   ]
  },
  {
   "cell_type": "code",
   "execution_count": 2,
   "metadata": {},
   "outputs": [
    {
     "data": {
      "text/html": [
       "<div>\n",
       "<style scoped>\n",
       "    .dataframe tbody tr th:only-of-type {\n",
       "        vertical-align: middle;\n",
       "    }\n",
       "\n",
       "    .dataframe tbody tr th {\n",
       "        vertical-align: top;\n",
       "    }\n",
       "\n",
       "    .dataframe thead th {\n",
       "        text-align: right;\n",
       "    }\n",
       "</style>\n",
       "<table border=\"1\" class=\"dataframe\">\n",
       "  <thead>\n",
       "    <tr style=\"text-align: right;\">\n",
       "      <th></th>\n",
       "      <th>Original</th>\n",
       "      <th>Predicted</th>\n",
       "      <th>MLI</th>\n",
       "    </tr>\n",
       "  </thead>\n",
       "  <tbody>\n",
       "    <tr>\n",
       "      <th>0</th>\n",
       "      <td>M</td>\n",
       "      <td>M</td>\n",
       "      <td>StudentAbsenceDays &lt;= 0.00,0.18032690181557778...</td>\n",
       "    </tr>\n",
       "    <tr>\n",
       "      <th>1</th>\n",
       "      <td>H</td>\n",
       "      <td>H</td>\n",
       "      <td>0.00 &lt; StudentAbsenceDays &lt;= 1.00,-0.163536341...</td>\n",
       "    </tr>\n",
       "    <tr>\n",
       "      <th>2</th>\n",
       "      <td>H</td>\n",
       "      <td>H</td>\n",
       "      <td>0.00 &lt; StudentAbsenceDays &lt;= 1.00,-0.164631607...</td>\n",
       "    </tr>\n",
       "    <tr>\n",
       "      <th>3</th>\n",
       "      <td>M</td>\n",
       "      <td>M</td>\n",
       "      <td>0.00 &lt; StudentAbsenceDays &lt;= 1.00,-0.169368486...</td>\n",
       "    </tr>\n",
       "    <tr>\n",
       "      <th>4</th>\n",
       "      <td>L</td>\n",
       "      <td>L</td>\n",
       "      <td>StudentAbsenceDays &lt;= 0.00,0.17603575940231017...</td>\n",
       "    </tr>\n",
       "  </tbody>\n",
       "</table>\n",
       "</div>"
      ],
      "text/plain": [
       "  Original Predicted                                                MLI\n",
       "0        M         M  StudentAbsenceDays <= 0.00,0.18032690181557778...\n",
       "1        H         H  0.00 < StudentAbsenceDays <= 1.00,-0.163536341...\n",
       "2        H         H  0.00 < StudentAbsenceDays <= 1.00,-0.164631607...\n",
       "3        M         M  0.00 < StudentAbsenceDays <= 1.00,-0.169368486...\n",
       "4        L         L  StudentAbsenceDays <= 0.00,0.17603575940231017..."
      ]
     },
     "execution_count": 2,
     "metadata": {},
     "output_type": "execute_result"
    }
   ],
   "source": [
    "df = pd.read_csv(\"../data/mli_output.csv\", delimiter='|')\n",
    "df.head()"
   ]
  },
  {
   "cell_type": "code",
   "execution_count": 3,
   "metadata": {},
   "outputs": [],
   "source": [
    "correct_pred = df[df['Original'] == df['Predicted']]"
   ]
  },
  {
   "cell_type": "code",
   "execution_count": 4,
   "metadata": {},
   "outputs": [
    {
     "data": {
      "text/plain": [
       "(57, 72)"
      ]
     },
     "execution_count": 4,
     "metadata": {},
     "output_type": "execute_result"
    }
   ],
   "source": [
    "len(correct_pred), len(df)"
   ]
  },
  {
   "cell_type": "code",
   "execution_count": 5,
   "metadata": {},
   "outputs": [
    {
     "data": {
      "text/html": [
       "<div>\n",
       "<style scoped>\n",
       "    .dataframe tbody tr th:only-of-type {\n",
       "        vertical-align: middle;\n",
       "    }\n",
       "\n",
       "    .dataframe tbody tr th {\n",
       "        vertical-align: top;\n",
       "    }\n",
       "\n",
       "    .dataframe thead th {\n",
       "        text-align: right;\n",
       "    }\n",
       "</style>\n",
       "<table border=\"1\" class=\"dataframe\">\n",
       "  <thead>\n",
       "    <tr style=\"text-align: right;\">\n",
       "      <th></th>\n",
       "      <th>Original</th>\n",
       "      <th>Predicted</th>\n",
       "      <th>MLI</th>\n",
       "    </tr>\n",
       "  </thead>\n",
       "  <tbody>\n",
       "    <tr>\n",
       "      <th>0</th>\n",
       "      <td>M</td>\n",
       "      <td>M</td>\n",
       "      <td>StudentAbsenceDays &lt;= 0.00,0.18032690181557778...</td>\n",
       "    </tr>\n",
       "    <tr>\n",
       "      <th>1</th>\n",
       "      <td>H</td>\n",
       "      <td>H</td>\n",
       "      <td>0.00 &lt; StudentAbsenceDays &lt;= 1.00,-0.163536341...</td>\n",
       "    </tr>\n",
       "    <tr>\n",
       "      <th>2</th>\n",
       "      <td>H</td>\n",
       "      <td>H</td>\n",
       "      <td>0.00 &lt; StudentAbsenceDays &lt;= 1.00,-0.164631607...</td>\n",
       "    </tr>\n",
       "    <tr>\n",
       "      <th>3</th>\n",
       "      <td>M</td>\n",
       "      <td>M</td>\n",
       "      <td>0.00 &lt; StudentAbsenceDays &lt;= 1.00,-0.169368486...</td>\n",
       "    </tr>\n",
       "    <tr>\n",
       "      <th>4</th>\n",
       "      <td>L</td>\n",
       "      <td>L</td>\n",
       "      <td>StudentAbsenceDays &lt;= 0.00,0.17603575940231017...</td>\n",
       "    </tr>\n",
       "  </tbody>\n",
       "</table>\n",
       "</div>"
      ],
      "text/plain": [
       "  Original Predicted                                                MLI\n",
       "0        M         M  StudentAbsenceDays <= 0.00,0.18032690181557778...\n",
       "1        H         H  0.00 < StudentAbsenceDays <= 1.00,-0.163536341...\n",
       "2        H         H  0.00 < StudentAbsenceDays <= 1.00,-0.164631607...\n",
       "3        M         M  0.00 < StudentAbsenceDays <= 1.00,-0.169368486...\n",
       "4        L         L  StudentAbsenceDays <= 0.00,0.17603575940231017..."
      ]
     },
     "execution_count": 5,
     "metadata": {},
     "output_type": "execute_result"
    }
   ],
   "source": [
    "correct_pred.head()"
   ]
  },
  {
   "cell_type": "code",
   "execution_count": 6,
   "metadata": {},
   "outputs": [],
   "source": [
    "high_grade = correct_pred[correct_pred['Original'] == 'H']\n",
    "medium_grade = correct_pred[correct_pred['Original'] == 'M']\n",
    "low_grade = correct_pred[correct_pred['Original'] == 'L']"
   ]
  },
  {
   "cell_type": "code",
   "execution_count": 7,
   "metadata": {},
   "outputs": [],
   "source": [
    "high_grade.to_csv(\"../data/high_grade.csv\", index=False, sep='|')\n",
    "medium_grade.to_csv(\"../data/medium_grade.csv\", index=False, sep='|')\n",
    "low_grade.to_csv(\"../data/low_grade.csv\", index=False, sep='|')"
   ]
  },
  {
   "cell_type": "markdown",
   "metadata": {},
   "source": [
    "# HIGH GRADE"
   ]
  },
  {
   "cell_type": "code",
   "execution_count": 9,
   "metadata": {},
   "outputs": [
    {
     "name": "stdout",
     "output_type": "stream",
     "text": [
      "['0.00 < StudentAbsenceDays <= 1.00']\n",
      "['-0.162643794943193', 'raisedhands > 72.00']\n",
      "['-0.12758245960248094', 'PlaceofBirth > 4.00']\n",
      "['-0.09908253982895715', 'VisITedResources > 84.00']\n",
      "['-0.08701361691709719', 'NationalITy <= 3.00']\n"
     ]
    }
   ],
   "source": [
    "for i in range(5):\n",
    "    print(high_grade['MLI'].iloc[20].split(\",\")[i].split('##'))"
   ]
  },
  {
   "cell_type": "code",
   "execution_count": 10,
   "metadata": {},
   "outputs": [],
   "source": [
    "high_grade_factors = []\n",
    "for k in range(len(high_grade)):\n",
    "    for i in range(5):\n",
    "        if len(high_grade['MLI'].iloc[k].split(\",\")[i].split('##')) > 1:\n",
    "            high_grade_factors.append(high_grade['MLI'].iloc[k].split(\",\")[i].split('##')[1])\n",
    "        else:\n",
    "            high_grade_factors.append(high_grade['MLI'].iloc[k].split(\",\")[i])"
   ]
  },
  {
   "cell_type": "code",
   "execution_count": 11,
   "metadata": {},
   "outputs": [
    {
     "data": {
      "text/plain": [
       "[('0.00 < StudentAbsenceDays <= 1.00', 24),\n",
       " ('raisedhands > 72.00', 17),\n",
       " ('AnnouncementsView > 52.25', 16),\n",
       " ('0.00 < ParentAnsweringSurvey <= 1.00', 16),\n",
       " ('NationalITy <= 3.00', 15),\n",
       " ('VisITedResources > 84.00', 7),\n",
       " ('PlaceofBirth > 4.00', 6),\n",
       " ('ParentAnsweringSurvey <= 0.00', 4),\n",
       " ('NationalITy > 4.00', 4),\n",
       " ('42.00 < raisedhands <= 72.00', 3),\n",
       " ('62.50 < VisITedResources <= 84.00', 2),\n",
       " ('PlaceofBirth <= 3.00', 2),\n",
       " ('AnnouncementsView <= 14.00', 1),\n",
       " ('0.00 < gender <= 1.00', 1),\n",
       " ('StageID <= 1.00', 1),\n",
       " ('0.00 < Relation <= 1.00', 1)]"
      ]
     },
     "execution_count": 11,
     "metadata": {},
     "output_type": "execute_result"
    }
   ],
   "source": [
    "from collections import Counter\n",
    "\n",
    "Counter(high_grade_factors).most_common()"
   ]
  },
  {
   "cell_type": "markdown",
   "metadata": {},
   "source": [
    "# MEDIUM GRADE"
   ]
  },
  {
   "cell_type": "code",
   "execution_count": 12,
   "metadata": {},
   "outputs": [
    {
     "name": "stdout",
     "output_type": "stream",
     "text": [
      "['0.00 < StudentAbsenceDays <= 1.00']\n",
      "['-0.16297087035846208', 'VisITedResources <= 18.75']\n",
      "['0.12885616732470678', 'AnnouncementsView <= 14.00']\n",
      "['0.10003729006575986', '0.00 < ParentAnsweringSurvey <= 1.00']\n",
      "['-0.0756212134437473', '0.00 < gender <= 1.00']\n"
     ]
    }
   ],
   "source": [
    "for i in range(5):\n",
    "    print(medium_grade['MLI'].iloc[20].split(\",\")[i].split('##'))"
   ]
  },
  {
   "cell_type": "code",
   "execution_count": 13,
   "metadata": {},
   "outputs": [],
   "source": [
    "medium_grade_factors = []\n",
    "for k in range(len(medium_grade)):\n",
    "    for i in range(5):\n",
    "        if len(medium_grade['MLI'].iloc[k].split(\",\")[i].split('##')) > 1:\n",
    "            medium_grade_factors.append(medium_grade['MLI'].iloc[k].split(\",\")[i].split('##')[1])\n",
    "        else:\n",
    "            medium_grade_factors.append(medium_grade['MLI'].iloc[k].split(\",\")[i])"
   ]
  },
  {
   "cell_type": "code",
   "execution_count": 14,
   "metadata": {},
   "outputs": [
    {
     "data": {
      "text/plain": [
       "[('0.00 < ParentAnsweringSurvey <= 1.00', 15),\n",
       " ('0.00 < StudentAbsenceDays <= 1.00', 13),\n",
       " ('NationalITy <= 3.00', 10),\n",
       " ('StudentAbsenceDays <= 0.00', 9),\n",
       " ('ParentAnsweringSurvey <= 0.00', 7),\n",
       " ('PlaceofBirth <= 3.00', 7),\n",
       " ('AnnouncementsView > 52.25', 7),\n",
       " ('StageID <= 1.00', 7),\n",
       " ('42.00 < raisedhands <= 72.00', 6),\n",
       " ('AnnouncementsView <= 14.00', 5),\n",
       " ('0.00 < gender <= 1.00', 5),\n",
       " ('raisedhands > 72.00', 3),\n",
       " ('NationalITy > 4.00', 3),\n",
       " ('gender <= 0.00', 3),\n",
       " ('VisITedResources <= 18.75', 2),\n",
       " ('15.00 < raisedhands <= 42.00', 2),\n",
       " ('62.50 < VisITedResources <= 84.00', 2),\n",
       " ('VisITedResources > 84.00', 1),\n",
       " ('Discussion <= 20.00', 1),\n",
       " ('PlaceofBirth > 4.00', 1),\n",
       " ('1.00 < StageID <= 2.00', 1)]"
      ]
     },
     "execution_count": 14,
     "metadata": {},
     "output_type": "execute_result"
    }
   ],
   "source": [
    "Counter(medium_grade_factors).most_common()"
   ]
  },
  {
   "cell_type": "markdown",
   "metadata": {},
   "source": [
    "# LOW GRADE"
   ]
  },
  {
   "cell_type": "code",
   "execution_count": 15,
   "metadata": {},
   "outputs": [
    {
     "name": "stdout",
     "output_type": "stream",
     "text": [
      "['NationalITy > 4.00']\n",
      "['0.17208001459246347', 'StudentAbsenceDays <= 0.00']\n",
      "['0.16451251676620332', 'raisedhands <= 15.00']\n",
      "['0.1507059776186611', 'VisITedResources <= 18.75']\n",
      "['0.12848336684170322', 'AnnouncementsView <= 14.00']\n"
     ]
    }
   ],
   "source": [
    "for i in range(5):\n",
    "    print(low_grade['MLI'].iloc[10].split(\",\")[i].split('##'))"
   ]
  },
  {
   "cell_type": "code",
   "execution_count": 16,
   "metadata": {},
   "outputs": [],
   "source": [
    "low_grade_factors = []\n",
    "for k in range(len(low_grade)):\n",
    "    for i in range(5):\n",
    "        if len(low_grade['MLI'].iloc[k].split(\",\")[i].split('##')) > 1:\n",
    "            low_grade_factors.append(low_grade['MLI'].iloc[k].split(\",\")[i].split('##')[1])\n",
    "        else:\n",
    "            low_grade_factors.append(low_grade['MLI'].iloc[k].split(\",\")[i])"
   ]
  },
  {
   "cell_type": "code",
   "execution_count": 17,
   "metadata": {},
   "outputs": [
    {
     "data": {
      "text/plain": [
       "[('StudentAbsenceDays <= 0.00', 11),\n",
       " ('VisITedResources <= 18.75', 10),\n",
       " ('AnnouncementsView <= 14.00', 8),\n",
       " ('raisedhands <= 15.00', 7),\n",
       " ('NationalITy <= 3.00', 6),\n",
       " ('ParentAnsweringSurvey <= 0.00', 5),\n",
       " ('NationalITy > 4.00', 3),\n",
       " ('PlaceofBirth > 4.00', 1),\n",
       " ('PlaceofBirth <= 3.00', 1),\n",
       " ('0.00 < ParentAnsweringSurvey <= 1.00', 1),\n",
       " ('42.00 < raisedhands <= 72.00', 1),\n",
       " ('0.00 < gender <= 1.00', 1)]"
      ]
     },
     "execution_count": 17,
     "metadata": {},
     "output_type": "execute_result"
    }
   ],
   "source": [
    "Counter(low_grade_factors).most_common()"
   ]
  },
  {
   "cell_type": "code",
   "execution_count": 18,
   "metadata": {},
   "outputs": [
    {
     "data": {
      "text/plain": [
       "[('0.00 < StudentAbsenceDays <= 1.00', 24),\n",
       " ('raisedhands > 72.00', 17),\n",
       " ('AnnouncementsView > 52.25', 16),\n",
       " ('0.00 < ParentAnsweringSurvey <= 1.00', 16),\n",
       " ('NationalITy <= 3.00', 15),\n",
       " ('VisITedResources > 84.00', 7),\n",
       " ('PlaceofBirth > 4.00', 6),\n",
       " ('ParentAnsweringSurvey <= 0.00', 4),\n",
       " ('NationalITy > 4.00', 4),\n",
       " ('42.00 < raisedhands <= 72.00', 3),\n",
       " ('62.50 < VisITedResources <= 84.00', 2),\n",
       " ('PlaceofBirth <= 3.00', 2),\n",
       " ('AnnouncementsView <= 14.00', 1),\n",
       " ('0.00 < gender <= 1.00', 1),\n",
       " ('StageID <= 1.00', 1),\n",
       " ('0.00 < Relation <= 1.00', 1)]"
      ]
     },
     "execution_count": 18,
     "metadata": {},
     "output_type": "execute_result"
    }
   ],
   "source": [
    "Counter(high_grade_factors).most_common()"
   ]
  },
  {
   "cell_type": "markdown",
   "metadata": {},
   "source": [
    "# Relation"
   ]
  },
  {
   "cell_type": "code",
   "execution_count": 19,
   "metadata": {},
   "outputs": [
    {
     "data": {
      "text/plain": [
       "{'0.00 < Relation <= 1.00',\n",
       " '0.00 < StudentAbsenceDays <= 1.00',\n",
       " '62.50 < VisITedResources <= 84.00',\n",
       " 'AnnouncementsView > 52.25',\n",
       " 'StageID <= 1.00',\n",
       " 'VisITedResources > 84.00',\n",
       " 'raisedhands > 72.00'}"
      ]
     },
     "execution_count": 19,
     "metadata": {},
     "output_type": "execute_result"
    }
   ],
   "source": [
    "set(high_grade_factors) - set(low_grade_factors)"
   ]
  },
  {
   "cell_type": "code",
   "execution_count": 20,
   "metadata": {},
   "outputs": [
    {
     "data": {
      "text/plain": [
       "{'0.00 < Relation <= 1.00'}"
      ]
     },
     "execution_count": 20,
     "metadata": {},
     "output_type": "execute_result"
    }
   ],
   "source": [
    "set(high_grade_factors) - set(medium_grade_factors)"
   ]
  },
  {
   "cell_type": "code",
   "execution_count": 21,
   "metadata": {},
   "outputs": [
    {
     "data": {
      "text/plain": [
       "{'0.00 < StudentAbsenceDays <= 1.00',\n",
       " '1.00 < StageID <= 2.00',\n",
       " '15.00 < raisedhands <= 42.00',\n",
       " '62.50 < VisITedResources <= 84.00',\n",
       " 'AnnouncementsView > 52.25',\n",
       " 'Discussion <= 20.00',\n",
       " 'StageID <= 1.00',\n",
       " 'VisITedResources > 84.00',\n",
       " 'gender <= 0.00',\n",
       " 'raisedhands > 72.00'}"
      ]
     },
     "execution_count": 21,
     "metadata": {},
     "output_type": "execute_result"
    }
   ],
   "source": [
    "set(medium_grade_factors) - set(low_grade_factors)"
   ]
  },
  {
   "cell_type": "code",
   "execution_count": null,
   "metadata": {},
   "outputs": [],
   "source": []
  }
 ],
 "metadata": {
  "kernelspec": {
   "display_name": "Python 3",
   "language": "python",
   "name": "python3"
  },
  "language_info": {
   "codemirror_mode": {
    "name": "ipython",
    "version": 3
   },
   "file_extension": ".py",
   "mimetype": "text/x-python",
   "name": "python",
   "nbconvert_exporter": "python",
   "pygments_lexer": "ipython3",
   "version": "3.6.5"
  }
 },
 "nbformat": 4,
 "nbformat_minor": 2
}
