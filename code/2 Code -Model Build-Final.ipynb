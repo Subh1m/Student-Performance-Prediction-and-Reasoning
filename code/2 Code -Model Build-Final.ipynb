{
 "cells": [
  {
   "cell_type": "code",
   "execution_count": 1,
   "metadata": {},
   "outputs": [],
   "source": [
    "import pandas as pd\n",
    "import matplotlib.pyplot as plt\n",
    "%matplotlib inline\n",
    "import seaborn as sns\n",
    "import os\n",
    "import numpy as np\n",
    "from sklearn.model_selection import train_test_split\n",
    "from sklearn.metrics import classification_report, accuracy_score\n",
    "from sklearn.preprocessing import LabelEncoder"
   ]
  },
  {
   "cell_type": "code",
   "execution_count": 107,
   "metadata": {},
   "outputs": [
    {
     "data": {
      "text/html": [
       "<div>\n",
       "<style scoped>\n",
       "    .dataframe tbody tr th:only-of-type {\n",
       "        vertical-align: middle;\n",
       "    }\n",
       "\n",
       "    .dataframe tbody tr th {\n",
       "        vertical-align: top;\n",
       "    }\n",
       "\n",
       "    .dataframe thead th {\n",
       "        text-align: right;\n",
       "    }\n",
       "</style>\n",
       "<table border=\"1\" class=\"dataframe\">\n",
       "  <thead>\n",
       "    <tr style=\"text-align: right;\">\n",
       "      <th></th>\n",
       "      <th>gender</th>\n",
       "      <th>NationalITy</th>\n",
       "      <th>PlaceofBirth</th>\n",
       "      <th>StageID</th>\n",
       "      <th>GradeID</th>\n",
       "      <th>SectionID</th>\n",
       "      <th>Topic</th>\n",
       "      <th>Semester</th>\n",
       "      <th>Relation</th>\n",
       "      <th>raisedhands</th>\n",
       "      <th>VisITedResources</th>\n",
       "      <th>AnnouncementsView</th>\n",
       "      <th>Discussion</th>\n",
       "      <th>ParentAnsweringSurvey</th>\n",
       "      <th>ParentschoolSatisfaction</th>\n",
       "      <th>StudentAbsenceDays</th>\n",
       "      <th>Class</th>\n",
       "    </tr>\n",
       "  </thead>\n",
       "  <tbody>\n",
       "    <tr>\n",
       "      <th>0</th>\n",
       "      <td>M</td>\n",
       "      <td>KW</td>\n",
       "      <td>KuwaIT</td>\n",
       "      <td>lowerlevel</td>\n",
       "      <td>G-04</td>\n",
       "      <td>A</td>\n",
       "      <td>IT</td>\n",
       "      <td>F</td>\n",
       "      <td>Father</td>\n",
       "      <td>15</td>\n",
       "      <td>16</td>\n",
       "      <td>2</td>\n",
       "      <td>20</td>\n",
       "      <td>Yes</td>\n",
       "      <td>Good</td>\n",
       "      <td>Under-7</td>\n",
       "      <td>M</td>\n",
       "    </tr>\n",
       "    <tr>\n",
       "      <th>1</th>\n",
       "      <td>M</td>\n",
       "      <td>KW</td>\n",
       "      <td>KuwaIT</td>\n",
       "      <td>lowerlevel</td>\n",
       "      <td>G-04</td>\n",
       "      <td>A</td>\n",
       "      <td>IT</td>\n",
       "      <td>F</td>\n",
       "      <td>Father</td>\n",
       "      <td>20</td>\n",
       "      <td>20</td>\n",
       "      <td>3</td>\n",
       "      <td>25</td>\n",
       "      <td>Yes</td>\n",
       "      <td>Good</td>\n",
       "      <td>Under-7</td>\n",
       "      <td>M</td>\n",
       "    </tr>\n",
       "    <tr>\n",
       "      <th>2</th>\n",
       "      <td>M</td>\n",
       "      <td>KW</td>\n",
       "      <td>KuwaIT</td>\n",
       "      <td>lowerlevel</td>\n",
       "      <td>G-04</td>\n",
       "      <td>A</td>\n",
       "      <td>IT</td>\n",
       "      <td>F</td>\n",
       "      <td>Father</td>\n",
       "      <td>10</td>\n",
       "      <td>7</td>\n",
       "      <td>0</td>\n",
       "      <td>30</td>\n",
       "      <td>No</td>\n",
       "      <td>Bad</td>\n",
       "      <td>Above-7</td>\n",
       "      <td>L</td>\n",
       "    </tr>\n",
       "    <tr>\n",
       "      <th>3</th>\n",
       "      <td>M</td>\n",
       "      <td>KW</td>\n",
       "      <td>KuwaIT</td>\n",
       "      <td>lowerlevel</td>\n",
       "      <td>G-04</td>\n",
       "      <td>A</td>\n",
       "      <td>IT</td>\n",
       "      <td>F</td>\n",
       "      <td>Father</td>\n",
       "      <td>30</td>\n",
       "      <td>25</td>\n",
       "      <td>5</td>\n",
       "      <td>35</td>\n",
       "      <td>No</td>\n",
       "      <td>Bad</td>\n",
       "      <td>Above-7</td>\n",
       "      <td>L</td>\n",
       "    </tr>\n",
       "    <tr>\n",
       "      <th>4</th>\n",
       "      <td>M</td>\n",
       "      <td>KW</td>\n",
       "      <td>KuwaIT</td>\n",
       "      <td>lowerlevel</td>\n",
       "      <td>G-04</td>\n",
       "      <td>A</td>\n",
       "      <td>IT</td>\n",
       "      <td>F</td>\n",
       "      <td>Father</td>\n",
       "      <td>40</td>\n",
       "      <td>50</td>\n",
       "      <td>12</td>\n",
       "      <td>50</td>\n",
       "      <td>No</td>\n",
       "      <td>Bad</td>\n",
       "      <td>Above-7</td>\n",
       "      <td>M</td>\n",
       "    </tr>\n",
       "  </tbody>\n",
       "</table>\n",
       "</div>"
      ],
      "text/plain": [
       "  gender NationalITy PlaceofBirth     StageID GradeID SectionID Topic  \\\n",
       "0      M          KW       KuwaIT  lowerlevel    G-04         A    IT   \n",
       "1      M          KW       KuwaIT  lowerlevel    G-04         A    IT   \n",
       "2      M          KW       KuwaIT  lowerlevel    G-04         A    IT   \n",
       "3      M          KW       KuwaIT  lowerlevel    G-04         A    IT   \n",
       "4      M          KW       KuwaIT  lowerlevel    G-04         A    IT   \n",
       "\n",
       "  Semester Relation  raisedhands  VisITedResources  AnnouncementsView  \\\n",
       "0        F   Father           15                16                  2   \n",
       "1        F   Father           20                20                  3   \n",
       "2        F   Father           10                 7                  0   \n",
       "3        F   Father           30                25                  5   \n",
       "4        F   Father           40                50                 12   \n",
       "\n",
       "   Discussion ParentAnsweringSurvey ParentschoolSatisfaction  \\\n",
       "0          20                   Yes                     Good   \n",
       "1          25                   Yes                     Good   \n",
       "2          30                    No                      Bad   \n",
       "3          35                    No                      Bad   \n",
       "4          50                    No                      Bad   \n",
       "\n",
       "  StudentAbsenceDays Class  \n",
       "0            Under-7     M  \n",
       "1            Under-7     M  \n",
       "2            Above-7     L  \n",
       "3            Above-7     L  \n",
       "4            Above-7     M  "
      ]
     },
     "execution_count": 107,
     "metadata": {},
     "output_type": "execute_result"
    }
   ],
   "source": [
    "df = pd.read_csv(\"../data/xAPI-Edu-Data.csv\")\n",
    "df.head()"
   ]
  },
  {
   "cell_type": "code",
   "execution_count": 108,
   "metadata": {},
   "outputs": [
    {
     "data": {
      "text/plain": [
       "M    211\n",
       "H    142\n",
       "L    127\n",
       "Name: Class, dtype: int64"
      ]
     },
     "execution_count": 108,
     "metadata": {},
     "output_type": "execute_result"
    }
   ],
   "source": [
    "df.Class.value_counts()"
   ]
  },
  {
   "cell_type": "code",
   "execution_count": 109,
   "metadata": {},
   "outputs": [],
   "source": [
    "# Not used due to lower accuracy\n",
    "# X = pd.get_dummies(data = x, columns = ['Class'] , prefix = ['Class'] , drop_first = False)\n",
    "# X = pd.get_dummies(data = X, columns = ['StudentAbsenceDays'] , prefix = ['StudentAbsenceDays'] , drop_first = False)\n",
    "# X = pd.get_dummies(data = X, columns = ['ParentschoolSatisfaction'] , prefix = ['ParentschoolSatisfaction'] , drop_first = False)\n",
    "# X = pd.get_dummies(data = X, columns = ['Relation'] , prefix = ['Relation'] , drop_first = False)\n",
    "# X = pd.get_dummies(data = X, columns = ['SectionID'] , prefix = ['SectionID'] , drop_first = False)\n",
    "# X = pd.get_dummies(data = X, columns = ['gender'] , prefix = ['gender'] , drop_first = False)\n",
    "# X = pd.get_dummies(data = X, columns = ['PlaceofBirth'] , prefix = ['PlaceofBirth'] , drop_first = False)\n",
    "# X = pd.get_dummies(data = X, columns = ['Semester'] , prefix = ['Semester'] , drop_first = False)\n",
    "# X = pd.get_dummies(data = X, columns = ['ParentAnsweringSurvey'] , prefix = ['ParentAnsweringSurvey'] , drop_first = False)\n",
    "# X = pd.get_dummies(data = X, columns = ['GradeID'] , prefix = ['GradeID'] , drop_first = False)\n",
    "# X = pd.get_dummies(data = X, columns = ['StageID'] , prefix = ['StageID'] , drop_first = False)\n",
    "# X = pd.get_dummies(data = X, columns = ['Topic'] , prefix = ['Topic'] , drop_first = False)\n",
    "# X = pd.get_dummies(data = X, columns = ['NationalITy'] , prefix = ['NationalITy'] , drop_first = False)\n",
    "# X.head()"
   ]
  },
  {
   "cell_type": "code",
   "execution_count": 110,
   "metadata": {},
   "outputs": [],
   "source": [
    "Features = df.drop('gender',axis=1)\n",
    "Target = df['gender']\n",
    "label = LabelEncoder()\n",
    "Cat_Colums = Features.dtypes.pipe(lambda Features: Features[Features=='object']).index\n",
    "for col in Cat_Colums:\n",
    "    Features[col] = label.fit_transform(Features[col])"
   ]
  },
  {
   "cell_type": "code",
   "execution_count": 111,
   "metadata": {},
   "outputs": [],
   "source": [
    "Features = df.drop('Semester',axis=1)\n",
    "Target = df['Semester']\n",
    "label = LabelEncoder()\n",
    "Cat_Colums = Features.dtypes.pipe(lambda Features: Features[Features=='object']).index\n",
    "for col in Cat_Colums:\n",
    "    Features[col] = label.fit_transform(Features[col])"
   ]
  },
  {
   "cell_type": "code",
   "execution_count": 112,
   "metadata": {},
   "outputs": [],
   "source": [
    "Features = df.drop('ParentAnsweringSurvey',axis=1)\n",
    "Target = df['ParentAnsweringSurvey']\n",
    "label = LabelEncoder()\n",
    "Cat_Colums = Features.dtypes.pipe(lambda Features: Features[Features=='object']).index\n",
    "for col in Cat_Colums:\n",
    "    Features[col] = label.fit_transform(Features[col])"
   ]
  },
  {
   "cell_type": "code",
   "execution_count": 113,
   "metadata": {},
   "outputs": [],
   "source": [
    "Features = df.drop('Relation',axis=1)\n",
    "Target = df['Relation']\n",
    "label = LabelEncoder()\n",
    "Cat_Colums = Features.dtypes.pipe(lambda Features: Features[Features=='object']).index\n",
    "for col in Cat_Colums:\n",
    "    Features[col] = label.fit_transform(Features[col])"
   ]
  },
  {
   "cell_type": "code",
   "execution_count": 114,
   "metadata": {},
   "outputs": [],
   "source": [
    "Features = df.drop('ParentschoolSatisfaction',axis=1)\n",
    "Target = df['ParentschoolSatisfaction']\n",
    "label = LabelEncoder()\n",
    "Cat_Colums = Features.dtypes.pipe(lambda Features: Features[Features=='object']).index\n",
    "for col in Cat_Colums:\n",
    "    Features[col] = label.fit_transform(Features[col])"
   ]
  },
  {
   "cell_type": "code",
   "execution_count": 115,
   "metadata": {},
   "outputs": [],
   "source": [
    "Features = df.drop('StudentAbsenceDays',axis=1)\n",
    "Target = df['StudentAbsenceDays']\n",
    "label = LabelEncoder()\n",
    "Cat_Colums = Features.dtypes.pipe(lambda Features: Features[Features=='object']).index\n",
    "for col in Cat_Colums:\n",
    "    Features[col] = label.fit_transform(Features[col])"
   ]
  },
  {
   "cell_type": "code",
   "execution_count": 116,
   "metadata": {},
   "outputs": [],
   "source": [
    "Features = df.drop('Class',axis=1)\n",
    "Target = df['Class']\n",
    "label = LabelEncoder()\n",
    "Cat_Colums = Features.dtypes.pipe(lambda Features: Features[Features=='object']).index\n",
    "for col in Cat_Colums:\n",
    "    Features[col] = label.fit_transform(Features[col])"
   ]
  },
  {
   "cell_type": "code",
   "execution_count": 119,
   "metadata": {},
   "outputs": [],
   "source": [
    "X_train, X_test_partial, y_train, y_test_partial = train_test_split(Features, Target, test_size=0.3, random_state=52)"
   ]
  },
  {
   "cell_type": "code",
   "execution_count": 120,
   "metadata": {},
   "outputs": [],
   "source": [
    "X_valid, X_test, y_valid, y_test = train_test_split(X_test_partial, y_test_partial, test_size=0.5, random_state=52)"
   ]
  },
  {
   "cell_type": "code",
   "execution_count": 121,
   "metadata": {},
   "outputs": [
    {
     "data": {
      "text/plain": [
       "((336, 16), (336,), (72, 16), (72,), (72, 16), (72,))"
      ]
     },
     "execution_count": 121,
     "metadata": {},
     "output_type": "execute_result"
    }
   ],
   "source": [
    "X_train.shape, y_train.shape, X_valid.shape, y_valid.shape, X_test.shape, y_test.shape"
   ]
  },
  {
   "cell_type": "code",
   "execution_count": 122,
   "metadata": {},
   "outputs": [
    {
     "data": {
      "text/html": [
       "<div>\n",
       "<style scoped>\n",
       "    .dataframe tbody tr th:only-of-type {\n",
       "        vertical-align: middle;\n",
       "    }\n",
       "\n",
       "    .dataframe tbody tr th {\n",
       "        vertical-align: top;\n",
       "    }\n",
       "\n",
       "    .dataframe thead th {\n",
       "        text-align: right;\n",
       "    }\n",
       "</style>\n",
       "<table border=\"1\" class=\"dataframe\">\n",
       "  <thead>\n",
       "    <tr style=\"text-align: right;\">\n",
       "      <th></th>\n",
       "      <th>gender</th>\n",
       "      <th>NationalITy</th>\n",
       "      <th>PlaceofBirth</th>\n",
       "      <th>StageID</th>\n",
       "      <th>GradeID</th>\n",
       "      <th>SectionID</th>\n",
       "      <th>Topic</th>\n",
       "      <th>Semester</th>\n",
       "      <th>Relation</th>\n",
       "      <th>raisedhands</th>\n",
       "      <th>VisITedResources</th>\n",
       "      <th>AnnouncementsView</th>\n",
       "      <th>Discussion</th>\n",
       "      <th>ParentAnsweringSurvey</th>\n",
       "      <th>ParentschoolSatisfaction</th>\n",
       "      <th>StudentAbsenceDays</th>\n",
       "    </tr>\n",
       "  </thead>\n",
       "  <tbody>\n",
       "    <tr>\n",
       "      <th>220</th>\n",
       "      <td>1</td>\n",
       "      <td>12</td>\n",
       "      <td>12</td>\n",
       "      <td>1</td>\n",
       "      <td>5</td>\n",
       "      <td>2</td>\n",
       "      <td>11</td>\n",
       "      <td>1</td>\n",
       "      <td>0</td>\n",
       "      <td>77</td>\n",
       "      <td>69</td>\n",
       "      <td>41</td>\n",
       "      <td>13</td>\n",
       "      <td>1</td>\n",
       "      <td>1</td>\n",
       "      <td>1</td>\n",
       "    </tr>\n",
       "    <tr>\n",
       "      <th>89</th>\n",
       "      <td>1</td>\n",
       "      <td>4</td>\n",
       "      <td>4</td>\n",
       "      <td>2</td>\n",
       "      <td>0</td>\n",
       "      <td>1</td>\n",
       "      <td>7</td>\n",
       "      <td>0</td>\n",
       "      <td>0</td>\n",
       "      <td>5</td>\n",
       "      <td>20</td>\n",
       "      <td>1</td>\n",
       "      <td>50</td>\n",
       "      <td>1</td>\n",
       "      <td>1</td>\n",
       "      <td>0</td>\n",
       "    </tr>\n",
       "    <tr>\n",
       "      <th>78</th>\n",
       "      <td>1</td>\n",
       "      <td>4</td>\n",
       "      <td>4</td>\n",
       "      <td>0</td>\n",
       "      <td>8</td>\n",
       "      <td>0</td>\n",
       "      <td>9</td>\n",
       "      <td>0</td>\n",
       "      <td>0</td>\n",
       "      <td>13</td>\n",
       "      <td>3</td>\n",
       "      <td>11</td>\n",
       "      <td>9</td>\n",
       "      <td>0</td>\n",
       "      <td>0</td>\n",
       "      <td>0</td>\n",
       "    </tr>\n",
       "    <tr>\n",
       "      <th>354</th>\n",
       "      <td>1</td>\n",
       "      <td>3</td>\n",
       "      <td>3</td>\n",
       "      <td>2</td>\n",
       "      <td>0</td>\n",
       "      <td>1</td>\n",
       "      <td>4</td>\n",
       "      <td>0</td>\n",
       "      <td>1</td>\n",
       "      <td>30</td>\n",
       "      <td>98</td>\n",
       "      <td>42</td>\n",
       "      <td>21</td>\n",
       "      <td>1</td>\n",
       "      <td>1</td>\n",
       "      <td>1</td>\n",
       "    </tr>\n",
       "    <tr>\n",
       "      <th>314</th>\n",
       "      <td>0</td>\n",
       "      <td>3</td>\n",
       "      <td>12</td>\n",
       "      <td>2</td>\n",
       "      <td>1</td>\n",
       "      <td>1</td>\n",
       "      <td>10</td>\n",
       "      <td>0</td>\n",
       "      <td>1</td>\n",
       "      <td>78</td>\n",
       "      <td>88</td>\n",
       "      <td>74</td>\n",
       "      <td>83</td>\n",
       "      <td>1</td>\n",
       "      <td>1</td>\n",
       "      <td>1</td>\n",
       "    </tr>\n",
       "  </tbody>\n",
       "</table>\n",
       "</div>"
      ],
      "text/plain": [
       "     gender  NationalITy  PlaceofBirth  StageID  GradeID  SectionID  Topic  \\\n",
       "220       1           12            12        1        5          2     11   \n",
       "89        1            4             4        2        0          1      7   \n",
       "78        1            4             4        0        8          0      9   \n",
       "354       1            3             3        2        0          1      4   \n",
       "314       0            3            12        2        1          1     10   \n",
       "\n",
       "     Semester  Relation  raisedhands  VisITedResources  AnnouncementsView  \\\n",
       "220         1         0           77                69                 41   \n",
       "89          0         0            5                20                  1   \n",
       "78          0         0           13                 3                 11   \n",
       "354         0         1           30                98                 42   \n",
       "314         0         1           78                88                 74   \n",
       "\n",
       "     Discussion  ParentAnsweringSurvey  ParentschoolSatisfaction  \\\n",
       "220          13                      1                         1   \n",
       "89           50                      1                         1   \n",
       "78            9                      0                         0   \n",
       "354          21                      1                         1   \n",
       "314          83                      1                         1   \n",
       "\n",
       "     StudentAbsenceDays  \n",
       "220                   1  \n",
       "89                    0  \n",
       "78                    0  \n",
       "354                   1  \n",
       "314                   1  "
      ]
     },
     "execution_count": 122,
     "metadata": {},
     "output_type": "execute_result"
    }
   ],
   "source": [
    "X_train.head()"
   ]
  },
  {
   "cell_type": "code",
   "execution_count": 16,
   "metadata": {},
   "outputs": [
    {
     "data": {
      "text/plain": [
       "Index(['gender', 'NationalITy', 'PlaceofBirth', 'StageID', 'GradeID',\n",
       "       'SectionID', 'Topic', 'Semester', 'Relation', 'raisedhands',\n",
       "       'VisITedResources', 'AnnouncementsView', 'Discussion',\n",
       "       'ParentAnsweringSurvey', 'ParentschoolSatisfaction',\n",
       "       'StudentAbsenceDays'],\n",
       "      dtype='object')"
      ]
     },
     "execution_count": 16,
     "metadata": {},
     "output_type": "execute_result"
    }
   ],
   "source": [
    "Features.columns"
   ]
  },
  {
   "cell_type": "code",
   "execution_count": 17,
   "metadata": {},
   "outputs": [
    {
     "data": {
      "text/plain": [
       "M    211\n",
       "H    142\n",
       "L    127\n",
       "Name: Class, dtype: int64"
      ]
     },
     "execution_count": 17,
     "metadata": {},
     "output_type": "execute_result"
    }
   ],
   "source": [
    "Target.value_counts()"
   ]
  },
  {
   "cell_type": "code",
   "execution_count": 124,
   "metadata": {},
   "outputs": [],
   "source": [
    "Features.to_csv(\"../dataset_sample.csv\", index=False)"
   ]
  },
  {
   "cell_type": "markdown",
   "metadata": {},
   "source": [
    "# Naive Bayes"
   ]
  },
  {
   "cell_type": "code",
   "execution_count": 21,
   "metadata": {},
   "outputs": [
    {
     "data": {
      "text/plain": [
       "MultinomialNB(alpha=1.0, class_prior=None, fit_prior=True)"
      ]
     },
     "execution_count": 21,
     "metadata": {},
     "output_type": "execute_result"
    }
   ],
   "source": [
    "from sklearn.naive_bayes import MultinomialNB\n",
    "\n",
    "nb = MultinomialNB()\n",
    "nb.fit(X_train, y_train)"
   ]
  },
  {
   "cell_type": "code",
   "execution_count": 22,
   "metadata": {},
   "outputs": [
    {
     "name": "stdout",
     "output_type": "stream",
     "text": [
      "test accuracy is 0.5833333333333334\n"
     ]
    }
   ],
   "source": [
    "y_pred_nb = nb.predict(X_test)\n",
    "print(\"test accuracy is {}\".format(nb.score(X_test,y_test)))"
   ]
  },
  {
   "cell_type": "code",
   "execution_count": 23,
   "metadata": {},
   "outputs": [
    {
     "name": "stdout",
     "output_type": "stream",
     "text": [
      "             precision    recall  f1-score   support\n",
      "\n",
      "          H       0.71      0.57      0.63        30\n",
      "          L       0.59      0.67      0.62        15\n",
      "          M       0.48      0.56      0.52        27\n",
      "\n",
      "avg / total       0.60      0.58      0.59        72\n",
      "\n"
     ]
    }
   ],
   "source": [
    "Report = classification_report(y_test, y_pred_nb)\n",
    "print(Report)"
   ]
  },
  {
   "cell_type": "markdown",
   "metadata": {},
   "source": [
    "# Logistic Regression"
   ]
  },
  {
   "cell_type": "code",
   "execution_count": 24,
   "metadata": {},
   "outputs": [
    {
     "data": {
      "text/plain": [
       "LogisticRegression(C=1.0, class_weight=None, dual=False, fit_intercept=True,\n",
       "          intercept_scaling=1, max_iter=100, multi_class='ovr', n_jobs=1,\n",
       "          penalty='l2', random_state=0, solver='liblinear', tol=0.0001,\n",
       "          verbose=0, warm_start=False)"
      ]
     },
     "execution_count": 24,
     "metadata": {},
     "output_type": "execute_result"
    }
   ],
   "source": [
    "from sklearn.linear_model import LogisticRegression\n",
    "lr = LogisticRegression(random_state=0)\n",
    "lr.fit(X_train, y_train)"
   ]
  },
  {
   "cell_type": "code",
   "execution_count": 26,
   "metadata": {},
   "outputs": [
    {
     "name": "stdout",
     "output_type": "stream",
     "text": [
      "test accuracy is 0.7777777777777778\n"
     ]
    }
   ],
   "source": [
    "y_pred_lr = lr.predict(X_test)\n",
    "print(\"test accuracy is {}\".format(lr.score(X_test,y_test)))"
   ]
  },
  {
   "cell_type": "code",
   "execution_count": 28,
   "metadata": {},
   "outputs": [
    {
     "name": "stdout",
     "output_type": "stream",
     "text": [
      "             precision    recall  f1-score   support\n",
      "\n",
      "          H       0.92      0.73      0.81        30\n",
      "          L       0.76      0.87      0.81        15\n",
      "          M       0.68      0.78      0.72        27\n",
      "\n",
      "avg / total       0.80      0.78      0.78        72\n",
      "\n"
     ]
    }
   ],
   "source": [
    "Report = classification_report(y_test, y_pred_lr)\n",
    "print(Report)"
   ]
  },
  {
   "cell_type": "markdown",
   "metadata": {},
   "source": [
    "# Decision Tree"
   ]
  },
  {
   "cell_type": "code",
   "execution_count": 37,
   "metadata": {},
   "outputs": [
    {
     "data": {
      "text/plain": [
       "DecisionTreeClassifier(class_weight='balanced', criterion='gini',\n",
       "            max_depth=None, max_features=None, max_leaf_nodes=None,\n",
       "            min_impurity_decrease=0.0, min_impurity_split=None,\n",
       "            min_samples_leaf=1, min_samples_split=2,\n",
       "            min_weight_fraction_leaf=0.0, presort=False, random_state=0,\n",
       "            splitter='best')"
      ]
     },
     "execution_count": 37,
     "metadata": {},
     "output_type": "execute_result"
    }
   ],
   "source": [
    "from sklearn.tree import DecisionTreeClassifier\n",
    "\n",
    "dt = DecisionTreeClassifier(class_weight='balanced', random_state=0)\n",
    "dt.fit(X_train, y_train)"
   ]
  },
  {
   "cell_type": "code",
   "execution_count": 38,
   "metadata": {},
   "outputs": [
    {
     "name": "stdout",
     "output_type": "stream",
     "text": [
      "test accuracy is 0.7222222222222222\n"
     ]
    }
   ],
   "source": [
    "y_pred_dt = dt.predict(X_test)\n",
    "print(\"test accuracy is {}\".format(dt.score(X_test,y_test)))"
   ]
  },
  {
   "cell_type": "code",
   "execution_count": 39,
   "metadata": {},
   "outputs": [
    {
     "name": "stdout",
     "output_type": "stream",
     "text": [
      "             precision    recall  f1-score   support\n",
      "\n",
      "          H       0.86      0.63      0.73        30\n",
      "          L       0.85      0.73      0.79        15\n",
      "          M       0.59      0.81      0.69        27\n",
      "\n",
      "avg / total       0.76      0.72      0.73        72\n",
      "\n"
     ]
    }
   ],
   "source": [
    "Report = classification_report(y_test, y_pred_dt)\n",
    "print(Report)"
   ]
  },
  {
   "cell_type": "markdown",
   "metadata": {},
   "source": [
    "# Random Forest"
   ]
  },
  {
   "cell_type": "code",
   "execution_count": 47,
   "metadata": {},
   "outputs": [
    {
     "data": {
      "text/plain": [
       "RandomForestClassifier(bootstrap=True, class_weight='balanced',\n",
       "            criterion='gini', max_depth=None, max_features='auto',\n",
       "            max_leaf_nodes=None, min_impurity_decrease=0.0,\n",
       "            min_impurity_split=None, min_samples_leaf=1,\n",
       "            min_samples_split=2, min_weight_fraction_leaf=0.0,\n",
       "            n_estimators=1000, n_jobs=1, oob_score=False,\n",
       "            random_state=None, verbose=0, warm_start=False)"
      ]
     },
     "execution_count": 47,
     "metadata": {},
     "output_type": "execute_result"
    }
   ],
   "source": [
    "from sklearn.ensemble import RandomForestClassifier\n",
    "\n",
    "rf = RandomForestClassifier(n_estimators=1000, class_weight='balanced')\n",
    "rf.fit(X_train, y_train)"
   ]
  },
  {
   "cell_type": "code",
   "execution_count": 48,
   "metadata": {},
   "outputs": [
    {
     "name": "stdout",
     "output_type": "stream",
     "text": [
      "test accuracy is 0.7916666666666666\n"
     ]
    }
   ],
   "source": [
    "y_pred_rf = rf.predict(X_test)\n",
    "print(\"test accuracy is {}\".format(rf.score(X_test,y_test)))"
   ]
  },
  {
   "cell_type": "code",
   "execution_count": 49,
   "metadata": {},
   "outputs": [
    {
     "name": "stdout",
     "output_type": "stream",
     "text": [
      "             precision    recall  f1-score   support\n",
      "\n",
      "          H       0.95      0.63      0.76        30\n",
      "          L       0.93      0.87      0.90        15\n",
      "          M       0.66      0.93      0.77        27\n",
      "\n",
      "avg / total       0.84      0.79      0.79        72\n",
      "\n"
     ]
    }
   ],
   "source": [
    "Report = classification_report(y_test, y_pred_rf)\n",
    "print(Report)"
   ]
  },
  {
   "cell_type": "markdown",
   "metadata": {},
   "source": [
    "# SVM"
   ]
  },
  {
   "cell_type": "code",
   "execution_count": 83,
   "metadata": {},
   "outputs": [
    {
     "data": {
      "text/plain": [
       "SVC(C=1.0, cache_size=200, class_weight=None, coef0=0.0,\n",
       "  decision_function_shape='ovr', degree=3, gamma='auto', kernel='linear',\n",
       "  max_iter=-1, probability=True, random_state=7, shrinking=True, tol=0.001,\n",
       "  verbose=False)"
      ]
     },
     "execution_count": 83,
     "metadata": {},
     "output_type": "execute_result"
    }
   ],
   "source": [
    "from sklearn.svm import SVC\n",
    "\n",
    "svm = SVC(kernel='linear', probability=True, random_state=7)\n",
    "svm.fit(X_train.values, y_train)"
   ]
  },
  {
   "cell_type": "code",
   "execution_count": 84,
   "metadata": {},
   "outputs": [
    {
     "name": "stdout",
     "output_type": "stream",
     "text": [
      "test accuracy is 0.7916666666666666\n"
     ]
    }
   ],
   "source": [
    "y_pred_svm = svm.predict(X_test)\n",
    "print(\"test accuracy is {}\".format(svm.score(X_test,y_test)))"
   ]
  },
  {
   "cell_type": "code",
   "execution_count": 85,
   "metadata": {},
   "outputs": [
    {
     "name": "stdout",
     "output_type": "stream",
     "text": [
      "             precision    recall  f1-score   support\n",
      "\n",
      "          H       0.86      0.80      0.83        30\n",
      "          L       0.92      0.73      0.81        15\n",
      "          M       0.69      0.81      0.75        27\n",
      "\n",
      "avg / total       0.81      0.79      0.79        72\n",
      "\n"
     ]
    }
   ],
   "source": [
    "Report = classification_report(y_test, y_pred_svm)\n",
    "print(Report)"
   ]
  },
  {
   "cell_type": "markdown",
   "metadata": {},
   "source": [
    "# Multi-layer Perceptron"
   ]
  },
  {
   "cell_type": "code",
   "execution_count": 63,
   "metadata": {},
   "outputs": [
    {
     "name": "stderr",
     "output_type": "stream",
     "text": [
      "C:\\Users\\Subham\\Anaconda3\\lib\\site-packages\\h5py\\__init__.py:36: FutureWarning: Conversion of the second argument of issubdtype from `float` to `np.floating` is deprecated. In future, it will be treated as `np.float64 == np.dtype(float).type`.\n",
      "  from ._conv import register_converters as _register_converters\n",
      "Using TensorFlow backend.\n"
     ]
    }
   ],
   "source": [
    "from keras.layers import Dense, Dropout\n",
    "from keras.models import Sequential\n",
    "from keras.utils import to_categorical"
   ]
  },
  {
   "cell_type": "code",
   "execution_count": 64,
   "metadata": {},
   "outputs": [],
   "source": [
    "le = LabelEncoder()\n",
    "encoder = le.fit_transform(y_train)\n",
    "target = to_categorical(encoder)\n",
    "encoder_valid = le.transform(y_valid)\n",
    "target_valid = to_categorical(encoder_valid)"
   ]
  },
  {
   "cell_type": "code",
   "execution_count": 65,
   "metadata": {},
   "outputs": [
    {
     "data": {
      "text/plain": [
       "((336, 16), (336, 3))"
      ]
     },
     "execution_count": 65,
     "metadata": {},
     "output_type": "execute_result"
    }
   ],
   "source": [
    "X_train.shape, target.shape"
   ]
  },
  {
   "cell_type": "code",
   "execution_count": 66,
   "metadata": {},
   "outputs": [],
   "source": [
    "model = Sequential()\n",
    "model.add(Dense(100, activation='relu', input_dim = X_train.shape[1]))\n",
    "model.add(Dense(100, activation='relu'))\n",
    "model.add(Dense(100, activation='relu'))\n",
    "model.add(Dense(3, activation='softmax'))\n",
    "model.compile(optimizer='adam', loss='mean_absolute_error', metrics=['accuracy'])"
   ]
  },
  {
   "cell_type": "code",
   "execution_count": 68,
   "metadata": {},
   "outputs": [
    {
     "data": {
      "text/plain": [
       "M    0.439583\n",
       "H    0.295833\n",
       "L    0.264583\n",
       "Name: Class, dtype: float64"
      ]
     },
     "execution_count": 68,
     "metadata": {},
     "output_type": "execute_result"
    }
   ],
   "source": [
    "df['Class'].value_counts()/480"
   ]
  },
  {
   "cell_type": "code",
   "execution_count": 69,
   "metadata": {},
   "outputs": [
    {
     "data": {
      "text/plain": [
       "Counter({2: 155, 1: 91, 0: 90})"
      ]
     },
     "execution_count": 69,
     "metadata": {},
     "output_type": "execute_result"
    }
   ],
   "source": [
    "from collections import Counter\n",
    "Counter(encoder)"
   ]
  },
  {
   "cell_type": "code",
   "execution_count": 70,
   "metadata": {
    "scrolled": true
   },
   "outputs": [
    {
     "name": "stderr",
     "output_type": "stream",
     "text": [
      "C:\\Users\\Subham\\Anaconda3\\lib\\site-packages\\ipykernel_launcher.py:1: FutureWarning: Method .as_matrix will be removed in a future version. Use .values instead.\n",
      "  \"\"\"Entry point for launching an IPython kernel.\n",
      "WARNING: Logging before flag parsing goes to stderr.\n",
      "W1130 14:50:26.976892 12332 deprecation_wrapper.py:119] From C:\\Users\\Subham\\Anaconda3\\lib\\site-packages\\keras\\backend\\tensorflow_backend.py:422: The name tf.global_variables is deprecated. Please use tf.compat.v1.global_variables instead.\n",
      "\n"
     ]
    },
    {
     "name": "stdout",
     "output_type": "stream",
     "text": [
      "Train on 336 samples, validate on 72 samples\n",
      "Epoch 1/50\n",
      "336/336 [==============================] - 1s 2ms/step - loss: 0.5891 - accuracy: 0.5238 - val_loss: 0.3289 - val_accuracy: 0.5000\n",
      "Epoch 2/50\n",
      "336/336 [==============================] - 0s 36us/step - loss: 0.5193 - accuracy: 0.5863 - val_loss: 0.3310 - val_accuracy: 0.5139\n",
      "Epoch 3/50\n",
      "336/336 [==============================] - 0s 51us/step - loss: 0.5109 - accuracy: 0.5357 - val_loss: 0.3035 - val_accuracy: 0.5556\n",
      "Epoch 4/50\n",
      "336/336 [==============================] - 0s 45us/step - loss: 0.4823 - accuracy: 0.5744 - val_loss: 0.2935 - val_accuracy: 0.5556\n",
      "Epoch 5/50\n",
      "336/336 [==============================] - 0s 74us/step - loss: 0.4687 - accuracy: 0.6161 - val_loss: 0.2908 - val_accuracy: 0.5694\n",
      "Epoch 6/50\n",
      "336/336 [==============================] - 0s 89us/step - loss: 0.4667 - accuracy: 0.6131 - val_loss: 0.2907 - val_accuracy: 0.5556\n",
      "Epoch 7/50\n",
      "336/336 [==============================] - 0s 39us/step - loss: 0.4632 - accuracy: 0.6101 - val_loss: 0.2910 - val_accuracy: 0.5556\n",
      "Epoch 8/50\n",
      "336/336 [==============================] - 0s 72us/step - loss: 0.4561 - accuracy: 0.6250 - val_loss: 0.2884 - val_accuracy: 0.5694\n",
      "Epoch 9/50\n",
      "336/336 [==============================] - 0s 51us/step - loss: 0.4563 - accuracy: 0.5982 - val_loss: 0.2918 - val_accuracy: 0.5556\n",
      "Epoch 10/50\n",
      "336/336 [==============================] - 0s 60us/step - loss: 0.4496 - accuracy: 0.6310 - val_loss: 0.2891 - val_accuracy: 0.5556\n",
      "Epoch 11/50\n",
      "336/336 [==============================] - 0s 66us/step - loss: 0.4458 - accuracy: 0.6399 - val_loss: 0.2877 - val_accuracy: 0.5556\n",
      "Epoch 12/50\n",
      "336/336 [==============================] - 0s 48us/step - loss: 0.4436 - accuracy: 0.6310 - val_loss: 0.2886 - val_accuracy: 0.5694\n",
      "Epoch 13/50\n",
      "336/336 [==============================] - 0s 42us/step - loss: 0.4438 - accuracy: 0.6369 - val_loss: 0.2912 - val_accuracy: 0.5694\n",
      "Epoch 14/50\n",
      "336/336 [==============================] - 0s 39us/step - loss: 0.4442 - accuracy: 0.6220 - val_loss: 0.2904 - val_accuracy: 0.5694\n",
      "Epoch 15/50\n",
      "336/336 [==============================] - 0s 48us/step - loss: 0.4513 - accuracy: 0.6310 - val_loss: 0.2897 - val_accuracy: 0.5556\n",
      "Epoch 16/50\n",
      "336/336 [==============================] - 0s 48us/step - loss: 0.4543 - accuracy: 0.6071 - val_loss: 0.2956 - val_accuracy: 0.5556\n",
      "Epoch 17/50\n",
      "336/336 [==============================] - 0s 51us/step - loss: 0.4459 - accuracy: 0.6280 - val_loss: 0.2975 - val_accuracy: 0.5556\n",
      "Epoch 18/50\n",
      "336/336 [==============================] - 0s 48us/step - loss: 0.4410 - accuracy: 0.6339 - val_loss: 0.3004 - val_accuracy: 0.5417\n",
      "Epoch 19/50\n",
      "336/336 [==============================] - 0s 60us/step - loss: 0.4426 - accuracy: 0.6190 - val_loss: 0.2887 - val_accuracy: 0.5694\n",
      "Epoch 20/50\n",
      "336/336 [==============================] - 0s 48us/step - loss: 0.4327 - accuracy: 0.6488 - val_loss: 0.2884 - val_accuracy: 0.5694\n",
      "Epoch 21/50\n",
      "336/336 [==============================] - 0s 48us/step - loss: 0.4295 - accuracy: 0.6429 - val_loss: 0.2881 - val_accuracy: 0.5694\n",
      "Epoch 22/50\n",
      "336/336 [==============================] - 0s 48us/step - loss: 0.4285 - accuracy: 0.6518 - val_loss: 0.2881 - val_accuracy: 0.5694\n",
      "Epoch 23/50\n",
      "336/336 [==============================] - 0s 48us/step - loss: 0.4254 - accuracy: 0.6518 - val_loss: 0.2877 - val_accuracy: 0.5694\n",
      "Epoch 24/50\n",
      "336/336 [==============================] - 0s 51us/step - loss: 0.4227 - accuracy: 0.6548 - val_loss: 0.2875 - val_accuracy: 0.5694\n",
      "Epoch 25/50\n",
      "336/336 [==============================] - 0s 48us/step - loss: 0.4220 - accuracy: 0.6607 - val_loss: 0.2880 - val_accuracy: 0.5694\n",
      "Epoch 26/50\n",
      "336/336 [==============================] - 0s 48us/step - loss: 0.4200 - accuracy: 0.6607 - val_loss: 0.2872 - val_accuracy: 0.5694\n",
      "Epoch 27/50\n",
      "336/336 [==============================] - 0s 48us/step - loss: 0.4190 - accuracy: 0.6607 - val_loss: 0.2875 - val_accuracy: 0.5694\n",
      "Epoch 28/50\n",
      "336/336 [==============================] - 0s 48us/step - loss: 0.4176 - accuracy: 0.6667 - val_loss: 0.2845 - val_accuracy: 0.5833\n",
      "Epoch 29/50\n",
      "336/336 [==============================] - 0s 45us/step - loss: 0.4180 - accuracy: 0.6607 - val_loss: 0.2892 - val_accuracy: 0.5694\n",
      "Epoch 30/50\n",
      "336/336 [==============================] - 0s 45us/step - loss: 0.4198 - accuracy: 0.6607 - val_loss: 0.2870 - val_accuracy: 0.5694\n",
      "Epoch 31/50\n",
      "336/336 [==============================] - 0s 51us/step - loss: 0.4163 - accuracy: 0.6667 - val_loss: 0.2885 - val_accuracy: 0.5694\n",
      "Epoch 32/50\n",
      "336/336 [==============================] - 0s 48us/step - loss: 0.4164 - accuracy: 0.6637 - val_loss: 0.2871 - val_accuracy: 0.5694\n",
      "Epoch 33/50\n",
      "336/336 [==============================] - 0s 51us/step - loss: 0.4164 - accuracy: 0.6667 - val_loss: 0.2868 - val_accuracy: 0.5694\n",
      "Epoch 34/50\n",
      "336/336 [==============================] - 0s 42us/step - loss: 0.4152 - accuracy: 0.6637 - val_loss: 0.2865 - val_accuracy: 0.5694\n",
      "Epoch 35/50\n",
      "336/336 [==============================] - 0s 51us/step - loss: 0.4164 - accuracy: 0.6667 - val_loss: 0.2850 - val_accuracy: 0.5694\n",
      "Epoch 36/50\n",
      "336/336 [==============================] - 0s 51us/step - loss: 0.4158 - accuracy: 0.6637 - val_loss: 0.2875 - val_accuracy: 0.5694\n",
      "Epoch 37/50\n",
      "336/336 [==============================] - 0s 48us/step - loss: 0.4290 - accuracy: 0.6607 - val_loss: 0.2839 - val_accuracy: 0.5694\n",
      "Epoch 38/50\n",
      "336/336 [==============================] - 0s 51us/step - loss: 0.4245 - accuracy: 0.6518 - val_loss: 0.2896 - val_accuracy: 0.5694\n",
      "Epoch 39/50\n",
      "336/336 [==============================] - 0s 51us/step - loss: 0.4222 - accuracy: 0.6577 - val_loss: 0.2900 - val_accuracy: 0.5694\n",
      "Epoch 40/50\n",
      "336/336 [==============================] - 0s 60us/step - loss: 0.4140 - accuracy: 0.6637 - val_loss: 0.2889 - val_accuracy: 0.5694\n",
      "Epoch 41/50\n",
      "336/336 [==============================] - 0s 60us/step - loss: 0.4118 - accuracy: 0.6696 - val_loss: 0.2913 - val_accuracy: 0.5694\n",
      "Epoch 42/50\n",
      "336/336 [==============================] - 0s 51us/step - loss: 0.4103 - accuracy: 0.6696 - val_loss: 0.2886 - val_accuracy: 0.5694\n",
      "Epoch 43/50\n",
      "336/336 [==============================] - 0s 63us/step - loss: 0.4101 - accuracy: 0.6696 - val_loss: 0.2879 - val_accuracy: 0.5694\n",
      "Epoch 44/50\n",
      "336/336 [==============================] - 0s 60us/step - loss: 0.4093 - accuracy: 0.6696 - val_loss: 0.2899 - val_accuracy: 0.5694\n",
      "Epoch 45/50\n",
      "336/336 [==============================] - 0s 51us/step - loss: 0.4089 - accuracy: 0.6696 - val_loss: 0.2904 - val_accuracy: 0.5694\n",
      "Epoch 46/50\n",
      "336/336 [==============================] - 0s 54us/step - loss: 0.4086 - accuracy: 0.6696 - val_loss: 0.2904 - val_accuracy: 0.5694\n",
      "Epoch 47/50\n",
      "336/336 [==============================] - 0s 54us/step - loss: 0.4088 - accuracy: 0.6696 - val_loss: 0.2897 - val_accuracy: 0.5694\n",
      "Epoch 48/50\n",
      "336/336 [==============================] - 0s 57us/step - loss: 0.4124 - accuracy: 0.6637 - val_loss: 0.2873 - val_accuracy: 0.5833\n",
      "Epoch 49/50\n",
      "336/336 [==============================] - 0s 51us/step - loss: 0.4132 - accuracy: 0.6607 - val_loss: 0.2891 - val_accuracy: 0.5694\n",
      "Epoch 50/50\n",
      "336/336 [==============================] - 0s 51us/step - loss: 0.4099 - accuracy: 0.6696 - val_loss: 0.2896 - val_accuracy: 0.5694\n"
     ]
    },
    {
     "data": {
      "text/plain": [
       "<keras.callbacks.callbacks.History at 0xc86dd40ef0>"
      ]
     },
     "execution_count": 70,
     "metadata": {},
     "output_type": "execute_result"
    }
   ],
   "source": [
    "model.fit(X_train.as_matrix(), target, batch_size=64, verbose=1, epochs=50, class_weight={0:2,1:2,2:1.}, validation_data=[X_valid, target_valid])"
   ]
  },
  {
   "cell_type": "code",
   "execution_count": 71,
   "metadata": {},
   "outputs": [],
   "source": [
    "y_pred = model.predict_classes(X_test)"
   ]
  },
  {
   "cell_type": "code",
   "execution_count": 72,
   "metadata": {},
   "outputs": [
    {
     "name": "stderr",
     "output_type": "stream",
     "text": [
      "C:\\Users\\Subham\\Anaconda3\\lib\\site-packages\\sklearn\\preprocessing\\label.py:151: DeprecationWarning: The truth value of an empty array is ambiguous. Returning False, but in future this will result in an error. Use `array.size > 0` to check that an array is not empty.\n",
      "  if diff:\n"
     ]
    }
   ],
   "source": [
    "output = le.inverse_transform(y_pred)"
   ]
  },
  {
   "cell_type": "code",
   "execution_count": 73,
   "metadata": {},
   "outputs": [
    {
     "data": {
      "text/plain": [
       "0.4166666666666667"
      ]
     },
     "execution_count": 73,
     "metadata": {},
     "output_type": "execute_result"
    }
   ],
   "source": [
    "accuracy_score(y_test, output)"
   ]
  },
  {
   "cell_type": "code",
   "execution_count": 87,
   "metadata": {},
   "outputs": [
    {
     "name": "stderr",
     "output_type": "stream",
     "text": [
      "C:\\Users\\Subham\\Anaconda3\\lib\\site-packages\\sklearn\\metrics\\classification.py:1135: UndefinedMetricWarning: Precision and F-score are ill-defined and being set to 0.0 in labels with no predicted samples.\n",
      "  'precision', 'predicted', average, warn_for)\n"
     ]
    },
    {
     "name": "stdout",
     "output_type": "stream",
     "text": [
      "             precision    recall  f1-score   support\n",
      "\n",
      "          H       0.00      0.00      0.00        30\n",
      "          L       0.55      0.73      0.63        15\n",
      "          M       0.37      0.70      0.48        27\n",
      "\n",
      "avg / total       0.25      0.42      0.31        72\n",
      "\n"
     ]
    }
   ],
   "source": [
    "print(classification_report(y_test, output))"
   ]
  },
  {
   "cell_type": "markdown",
   "metadata": {},
   "source": [
    "# Machine Learning Interpretability (LIME)"
   ]
  },
  {
   "cell_type": "code",
   "execution_count": 75,
   "metadata": {},
   "outputs": [],
   "source": [
    "import lime\n",
    "import lime.lime_tabular"
   ]
  },
  {
   "cell_type": "code",
   "execution_count": 76,
   "metadata": {},
   "outputs": [],
   "source": [
    "class_names = y_test.unique()"
   ]
  },
  {
   "cell_type": "code",
   "execution_count": 77,
   "metadata": {},
   "outputs": [
    {
     "data": {
      "text/plain": [
       "(Index(['gender', 'NationalITy', 'PlaceofBirth', 'StageID', 'GradeID',\n",
       "        'SectionID', 'Topic', 'Semester', 'Relation', 'raisedhands',\n",
       "        'VisITedResources', 'AnnouncementsView', 'Discussion',\n",
       "        'ParentAnsweringSurvey', 'ParentschoolSatisfaction',\n",
       "        'StudentAbsenceDays'],\n",
       "       dtype='object'),\n",
       " Index(['gender', 'NationalITy', 'PlaceofBirth', 'StageID', 'GradeID',\n",
       "        'SectionID', 'Topic', 'Semester', 'Relation', 'raisedhands',\n",
       "        'VisITedResources', 'AnnouncementsView', 'Discussion',\n",
       "        'ParentAnsweringSurvey', 'ParentschoolSatisfaction',\n",
       "        'StudentAbsenceDays'],\n",
       "       dtype='object'))"
      ]
     },
     "execution_count": 77,
     "metadata": {},
     "output_type": "execute_result"
    }
   ],
   "source": [
    "X_train.columns, X_test.columns"
   ]
  },
  {
   "cell_type": "code",
   "execution_count": 78,
   "metadata": {},
   "outputs": [
    {
     "name": "stderr",
     "output_type": "stream",
     "text": [
      "C:\\Users\\Subham\\Anaconda3\\lib\\site-packages\\sklearn\\utils\\validation.py:475: DataConversionWarning: Data with input dtype int64 was converted to float64 by StandardScaler.\n",
      "  warnings.warn(msg, DataConversionWarning)\n"
     ]
    }
   ],
   "source": [
    "explainer = lime.lime_tabular.LimeTabularExplainer(X_train.values, feature_names=X_train.columns.values.tolist(), \n",
    "                                                   class_names=class_names, discretize_continuous=True, mode='classification')"
   ]
  },
  {
   "cell_type": "code",
   "execution_count": 105,
   "metadata": {},
   "outputs": [
    {
     "name": "stderr",
     "output_type": "stream",
     "text": [
      "C:\\Users\\Subham\\Anaconda3\\lib\\site-packages\\ipykernel_launcher.py:1: FutureWarning: Method .as_matrix will be removed in a future version. Use .values instead.\n",
      "  \"\"\"Entry point for launching an IPython kernel.\n"
     ]
    },
    {
     "data": {
      "text/plain": [
       "[('StudentAbsenceDays <= 0.00', 0.1541718062372064),\n",
       " ('raisedhands <= 15.00', 0.14985311199938714),\n",
       " ('VisITedResources <= 18.75', 0.11207606481585251),\n",
       " ('AnnouncementsView <= 14.00', 0.10716960113076818),\n",
       " ('ParentAnsweringSurvey <= 0.00', 0.06801177362323842)]"
      ]
     },
     "execution_count": 105,
     "metadata": {},
     "output_type": "execute_result"
    }
   ],
   "source": [
    "exp = explainer.explain_instance(X_test.as_matrix()[51], svm.predict_proba, num_features=5)\n",
    "exp.as_list()"
   ]
  },
  {
   "cell_type": "code",
   "execution_count": 104,
   "metadata": {},
   "outputs": [
    {
     "data": {
      "text/plain": [
       "'L'"
      ]
     },
     "execution_count": 104,
     "metadata": {},
     "output_type": "execute_result"
    }
   ],
   "source": [
    "y_test.iloc[51]"
   ]
  },
  {
   "cell_type": "code",
   "execution_count": null,
   "metadata": {},
   "outputs": [],
   "source": []
  },
  {
   "cell_type": "code",
   "execution_count": 79,
   "metadata": {},
   "outputs": [],
   "source": [
    "from tqdm import tqdm"
   ]
  },
  {
   "cell_type": "code",
   "execution_count": 91,
   "metadata": {
    "scrolled": false
   },
   "outputs": [
    {
     "name": "stderr",
     "output_type": "stream",
     "text": [
      "  0%|                                                   | 0/72 [00:00<?, ?it/s]C:\\Users\\Subham\\Anaconda3\\lib\\site-packages\\ipykernel_launcher.py:5: FutureWarning: Method .as_matrix will be removed in a future version. Use .values instead.\n",
      "  \"\"\"\n",
      "100%|██████████████████████████████████████████| 72/72 [00:19<00:00,  3.79it/s]\n"
     ]
    }
   ],
   "source": [
    "with open(\"../data/mli_output.csv\",\"w+\") as out:\n",
    "    out.write(\"Original|Predicted|MLI\\n\")\n",
    "    for i in tqdm(range(len(X_test))):\n",
    "        #i = 11\n",
    "        exp = explainer.explain_instance(X_test.as_matrix()[i], svm.predict_proba, num_features=5)\n",
    "        #exp.show_in_notebook(show_predicted_value=True, show_table=True, show_all=False)\n",
    "        out.write(str(y_test.iloc[i]))\n",
    "        out.write(\"|\")\n",
    "        out.write(str(y_pred_svm[i]))\n",
    "        out.write(\"|\")\n",
    "        out.write(str(exp.as_list()))\n",
    "        out.write(\"\\n\")\n",
    "        #(y_test.iloc[i], y_pred_svm[i], exp.as_list(),'\\n')"
   ]
  },
  {
   "cell_type": "code",
   "execution_count": null,
   "metadata": {},
   "outputs": [],
   "source": []
  }
 ],
 "metadata": {
  "kernelspec": {
   "display_name": "Python 3",
   "language": "python",
   "name": "python3"
  },
  "language_info": {
   "codemirror_mode": {
    "name": "ipython",
    "version": 3
   },
   "file_extension": ".py",
   "mimetype": "text/x-python",
   "name": "python",
   "nbconvert_exporter": "python",
   "pygments_lexer": "ipython3",
   "version": "3.6.5"
  }
 },
 "nbformat": 4,
 "nbformat_minor": 2
}
